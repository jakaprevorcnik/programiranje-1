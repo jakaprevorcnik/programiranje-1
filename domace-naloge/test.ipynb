{
 "cells": [
  {
   "cell_type": "code",
   "execution_count": 2,
   "metadata": {
    "vscode": {
     "languageId": "ocaml"
    }
   },
   "outputs": [
    {
     "data": {
      "text/plain": [
       "val filter_mapi : (int -> 'a -> 'b option) -> 'a list -> 'b list = <fun>\n"
      ]
     },
     "execution_count": 2,
     "metadata": {},
     "output_type": "execute_result"
    }
   ],
   "source": [
    "let rec filter_mapi f l =\n",
    "  let rec pomozna f l i =     (*definiramo pomozno funkcijo da imamo tudi indeks kot parameter*)\n",
    "      match l with\n",
    "      | [] -> []\n",
    "      | x::xs -> \n",
    "          match f i x with\n",
    "          | Some y -> y :: pomozna f xs (i+1)\n",
    "          | None -> pomozna f xs (i+1) in\n",
    "      pomozna f l 0 (*zacetni indeks bo 0*)"
   ]
  },
  {
   "cell_type": "code",
   "execution_count": 3,
   "metadata": {
    "vscode": {
     "languageId": "ocaml"
    }
   },
   "outputs": [
    {
     "data": {
      "text/plain": [
       "val primer_ogrevanje_8 : int list = [1; 9; 25; 49; 81]\n"
      ]
     },
     "execution_count": 3,
     "metadata": {},
     "output_type": "execute_result"
    }
   ],
   "source": [
    "let primer_ogrevanje_8 =\n",
    "  filter_mapi\n",
    "    (fun i x -> if i mod 2 = 0 then Some (x * x) else None)\n",
    "    [1; 2; 3; 4; 5; 6; 7; 8; 9]"
   ]
  }
 ],
 "metadata": {
  "kernelspec": {
   "display_name": "OCaml 4.14",
   "language": "OCaml",
   "name": "ocaml-jupyter"
  },
  "language_info": {
   "codemirror_mode": "text/x-ocaml",
   "file_extension": ".ml",
   "mimetype": "text/x-ocaml",
   "name": "OCaml",
   "nbconverter_exporter": null,
   "pygments_lexer": "OCaml",
   "version": "4.14.2"
  }
 },
 "nbformat": 4,
 "nbformat_minor": 2
}
