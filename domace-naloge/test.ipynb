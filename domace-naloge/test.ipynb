{
 "cells": [
  {
   "cell_type": "code",
   "execution_count": 63,
   "metadata": {
    "vscode": {
     "languageId": "ocaml"
    }
   },
   "outputs": [
    {
     "data": {
      "text/plain": [
       "val izpis : int list -> string = <fun>\n"
      ]
     },
     "execution_count": 63,
     "metadata": {},
     "output_type": "execute_result"
    }
   ],
   "source": [
    "let rec izpis p =\n",
    "    let rec pomozna p i =\n",
    "        let superscript n =\n",
    "            match n with\n",
    "            | 0 -> \"\" | 1 -> \"\" | 2 -> \"²\" | 3 -> \"³\" | 4 -> \"⁴\"\n",
    "            | 5 -> \"⁵\" | 6 -> \"⁶\" | 7 -> \"⁷\" | 8 -> \"⁸\" | 9 -> \"⁹\"\n",
    "            | _ -> \"^\" ^ string_of_int n in\n",
    "        match p, i with\n",
    "        | [], i -> \"\"\n",
    "        | x::xs, 0 -> string_of_int x ^ \" \" ^  \"+\" ^ \" \" ^ pomozna xs (i + 1)\n",
    "        | x::xs, i -> string_of_int x ^ \"x\" ^ superscript i ^ \" \" ^  \"+\" ^ \" \" ^ pomozna xs (i + 1) in\n",
    "    pomozna p 0"
   ]
  },
  {
   "cell_type": "code",
   "execution_count": 65,
   "metadata": {
    "vscode": {
     "languageId": "ocaml"
    }
   },
   "outputs": [
    {
     "data": {
      "text/plain": [
       "val primer_polinomi_8 : string = \"1 + 2x + 1x² + \"\n"
      ]
     },
     "execution_count": 65,
     "metadata": {},
     "output_type": "execute_result"
    }
   ],
   "source": [
    "let primer_polinomi_8 = izpis [1; 2; 1]"
   ]
  }
 ],
 "metadata": {
  "kernelspec": {
   "display_name": "OCaml 4.14",
   "language": "OCaml",
   "name": "ocaml-jupyter"
  },
  "language_info": {
   "codemirror_mode": "text/x-ocaml",
   "file_extension": ".ml",
   "mimetype": "text/x-ocaml",
   "name": "OCaml",
   "nbconverter_exporter": null,
   "pygments_lexer": "OCaml",
   "version": "4.14.2"
  }
 },
 "nbformat": 4,
 "nbformat_minor": 2
}
