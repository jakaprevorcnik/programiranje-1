{
 "cells": [
  {
   "cell_type": "markdown",
   "metadata": {
    "vscode": {
     "languageId": "ocaml"
    }
   },
   "source": [
    "# 4. domača naloga"
   ]
  },
  {
   "cell_type": "markdown",
   "metadata": {},
   "source": [
    "Pri tej nalogi boste napisali svoj simulator Turingovih strojev. Zaradi preprostosti bomo za abecedo vzeli kar znake tipa `char`, za prazni znak bomo izbrali presledek `' '`, stanja pa bomo predstavili z nizi. Za možne premike zafiksiramo tip `direction`:"
   ]
  },
  {
   "cell_type": "code",
   "execution_count": 27,
   "metadata": {
    "vscode": {
     "languageId": "ocaml"
    }
   },
   "outputs": [
    {
     "data": {
      "text/plain": [
       "type direction = Left | Right\n"
      ]
     },
     "execution_count": 27,
     "metadata": {},
     "output_type": "execute_result"
    },
    {
     "data": {
      "text/plain": [
       "type state = string\n"
      ]
     },
     "execution_count": 27,
     "metadata": {},
     "output_type": "execute_result"
    }
   ],
   "source": [
    "type direction = Left | Right\n",
    "type state = string"
   ]
  },
  {
   "cell_type": "markdown",
   "metadata": {},
   "source": [
    "## Implementacija trakov"
   ]
  },
  {
   "cell_type": "markdown",
   "metadata": {},
   "source": [
    "Napišite modul `Tape`, ki implementira spodnjo signaturo, kjer je:\n",
    "\n",
    "- `t` tip v obe smeri neomejenih trakov in glavo na danem mestu;\n",
    "- `make`, ki naredi nov trak z znaki iz niza ter glavo na prvem znaku;\n",
    "- `print`, ki izpiše vsebino traku (brez presledkov na začetku in koncu) ter pod njim z `^` označi mesto glave;\n",
    "- `read`, ki vrne znak pod glavo;\n",
    "- `write`, ki pod glavo zapiše dani znak;\n",
    "- `move`, ki glavo premakne v dano smer.\n",
    "\n",
    "Zadnji dve funkciji naj vrneta nov trak, obstoječega pa naj pustita nespremenjenega.\n",
    "\n",
    "Ker je tip `t` abstrakten, si lahko privoščite poljubno implementacijo, zato poskrbite tako za učinkovitost kot za preglednost kode."
   ]
  },
  {
   "cell_type": "code",
   "execution_count": 28,
   "metadata": {
    "vscode": {
     "languageId": "ocaml"
    }
   },
   "outputs": [
    {
     "data": {
      "text/plain": [
       "module type TAPE =\n",
       "  sig\n",
       "    type t\n",
       "    val make : string -> t\n",
       "    val print : t -> unit\n",
       "    val read : t -> char\n",
       "    val move : direction -> t -> t\n",
       "    val write : char -> t -> t\n",
       "  end\n"
      ]
     },
     "execution_count": 28,
     "metadata": {},
     "output_type": "execute_result"
    },
    {
     "data": {
      "text/plain": [
       "val string_reverse : String.t -> String.t = <fun>\n"
      ]
     },
     "execution_count": 28,
     "metadata": {},
     "output_type": "execute_result"
    },
    {
     "data": {
      "text/plain": [
       "val string_of_list : char list -> String.t = <fun>\n"
      ]
     },
     "execution_count": 28,
     "metadata": {},
     "output_type": "execute_result"
    },
    {
     "data": {
      "text/plain": [
       "val podcrtaj : string -> string = <fun>\n"
      ]
     },
     "execution_count": 28,
     "metadata": {},
     "output_type": "execute_result"
    },
    {
     "data": {
      "text/plain": [
       "val stresica : string -> string = <fun>\n"
      ]
     },
     "execution_count": 28,
     "metadata": {},
     "output_type": "execute_result"
    },
    {
     "data": {
      "text/plain": [
       "val hd : char list -> char = <fun>\n"
      ]
     },
     "execution_count": 28,
     "metadata": {},
     "output_type": "execute_result"
    },
    {
     "data": {
      "text/plain": [
       "module Tape : TAPE\n"
      ]
     },
     "execution_count": 28,
     "metadata": {},
     "output_type": "execute_result"
    }
   ],
   "source": [
    "module type TAPE = sig\n",
    "  type t\n",
    "\n",
    "  val make : string -> t\n",
    "  val print : t -> unit\n",
    "  val read : t -> char\n",
    "  val move : direction -> t -> t\n",
    "  val write : char -> t -> t\n",
    "end\n",
    "\n",
    "(* pomozne funkcije *)\n",
    "let string_reverse str = (*obrne niz*)\n",
    "  String.of_seq (List.to_seq (List.rev (List.of_seq (String.to_seq str))))\n",
    "let string_of_list l =   (*pretvori seznam v niz*)\n",
    "  String.of_seq (List.to_seq l)\n",
    "let podcrtaj str = \n",
    "  let len = String.length str in\n",
    "  let underline = String.make len '^' in\n",
    "  str ^ \"\\n\" ^ underline\n",
    "let stresica s =\n",
    "  (String.make (String.length s) ' ') ^ \"^\"\n",
    "let hd l =\n",
    "  match l with \n",
    "  | [] -> ' '\n",
    "  | x :: _ -> x\n",
    "(*----------------------*)\n",
    "  \n",
    "module Tape : TAPE = struct\n",
    "  type t = {\n",
    "    levi : char list;\n",
    "    glava : char;\n",
    "    desni : char list\n",
    "  }\n",
    "  let make str =\n",
    "    {glava = String.get str 0; levi = [];\n",
    "    desni = List.of_seq (String.to_seq (String.sub str 1 (String.length str - 1)))}\n",
    "  let read t = t.glava\n",
    "  let write ch t = {t with glava = ch}\n",
    "  let print t =\n",
    "    let leva_stran = (string_of_list (List.rev t.levi)) and\n",
    "    glava_traku = String.make 1 t.glava and\n",
    "    desna_stran = string_of_list t.desni in\n",
    "    let cel_niz = (leva_stran ^ glava_traku ^ desna_stran ^ \"\\n\" ^ stresica leva_stran) in\n",
    "    print_string (cel_niz);\n",
    "    print_newline ()\n",
    "    let move dir t =\n",
    "      match (dir, t.levi, t.desni) with\n",
    "      | (Left, x :: xs, _) ->\n",
    "          { levi = xs; glava = x; desni = t.glava :: t.desni }\n",
    "      | (Left, [], _) ->\n",
    "          { levi = []; glava = ' '; desni = t.glava :: t.desni }\n",
    "      | (Right, _, y :: ys) ->\n",
    "          { levi = t.glava :: t.levi; glava = y; desni = ys }\n",
    "      | (Right, _, []) ->\n",
    "          { levi = t.glava :: t.levi; glava = ' '; desni = [] }\n",
    "    \n",
    "end"
   ]
  },
  {
   "cell_type": "code",
   "execution_count": 29,
   "metadata": {
    "vscode": {
     "languageId": "ocaml"
    }
   },
   "outputs": [
    {
     "name": "stdout",
     "output_type": "stream",
     "text": [
      "  AB!DE\n",
      "    ^\n"
     ]
    },
    {
     "data": {
      "text/plain": [
       "val primer_trak : unit = ()\n"
      ]
     },
     "execution_count": 29,
     "metadata": {},
     "output_type": "execute_result"
    }
   ],
   "source": [
    "let primer_trak = Tape.(\n",
    "  make \"ABCDE\"\n",
    "  |> move Left\n",
    "  |> move Left\n",
    "  |> move Right\n",
    "  |> move Right\n",
    "  |> move Right\n",
    "  |> move Right\n",
    "  |> write '!'\n",
    "  |> print\n",
    ")"
   ]
  },
  {
   "cell_type": "markdown",
   "metadata": {
    "vscode": {
     "languageId": "ocaml"
    }
   },
   "source": [
    "## Implementacija Turingovih strojev"
   ]
  },
  {
   "cell_type": "markdown",
   "metadata": {},
   "source": [
    "Napišite modul `Machine`, ki implementira spodnjo signaturo, kjer je:\n",
    "\n",
    "- `t` tip Turingovih strojev;\n",
    "- `make`, ki naredi nov stroj z danim začetnim stanjem in seznamom preostalih stanj ter prazno prehodno funkcijo;\n",
    "- `initial`, ki vrne začetno stanje stroja;\n",
    "- `add_transition`, ki prehodno funkcijo razširi s prehodom $(q, a) \\mapsto (q', a', d)$;\n",
    "- `step`, ki za dano stanje in trak izvede en korak stroja, če je to mogoče.\n",
    "\n",
    "Zadnji dve funkciji naj vrneta spremenjene vrednosti, obstoječe argumente pa naj pustita nespremenjene. Prav tako pri zadnjih dveh funkcijah lahko predpostavite, da ju bomo klicali le na poprej podanih stanjih.\n",
    "\n",
    "Tudi tu je tip `t` abstrakten, zato poskrbite za učinkovitost in preglednost kode."
   ]
  },
  {
   "cell_type": "markdown",
   "metadata": {},
   "source": [
    "Vpeljemo modul AVL za delo z AVL drevesi s predavanj."
   ]
  },
  {
   "cell_type": "code",
   "execution_count": 30,
   "metadata": {
    "vscode": {
     "languageId": "ocaml"
    }
   },
   "outputs": [
    {
     "data": {
      "text/plain": [
       "module type AVL =\n",
       "  sig\n",
       "    type 'a t\n",
       "    val prazna : 'a t\n",
       "    val vsebuje : 'a t -> 'a -> bool\n",
       "    val velikost : 'a t -> int\n",
       "    val podvoji : 'a t -> 'a t\n",
       "    val zavrti_levo : 'a t -> 'a t\n",
       "    val zavrti_desno : 'a t -> 'a t\n",
       "    val visina : 'a t -> int\n",
       "    val razlika : 'a t -> int\n",
       "    val uravnotezi : 'a t -> 'a t\n",
       "    val isci : 'a -> 'a t -> bool\n",
       "    val dodaj : 'a -> 'a t -> 'a t\n",
       "  end\n"
      ]
     },
     "execution_count": 30,
     "metadata": {},
     "output_type": "execute_result"
    },
    {
     "data": {
      "text/plain": [
       "module Avl : AVL\n"
      ]
     },
     "execution_count": 30,
     "metadata": {},
     "output_type": "execute_result"
    }
   ],
   "source": [
    "module type AVL = sig\n",
    "  type 'a t\n",
    "\n",
    "  val prazna : 'a t\n",
    "  val vsebuje : 'a t -> 'a -> bool\n",
    "  val velikost : 'a t -> int\n",
    "  val podvoji : 'a t -> 'a t\n",
    "  val zavrti_levo : 'a t -> 'a t\n",
    "  val zavrti_desno : 'a t -> 'a t\n",
    "  val visina : 'a t -> int\n",
    "  val razlika : 'a t -> int\n",
    "  val uravnotezi : 'a t -> 'a t\n",
    "  val isci : 'a -> 'a t -> bool\n",
    "  val dodaj : 'a -> 'a t -> 'a t\n",
    "end\n",
    "\n",
    "\n",
    "module Avl : AVL = struct\n",
    "  type 'a t = Prazno | Sestavljeno of 'a t * 'a * 'a t\n",
    "\n",
    "  let rec vsebuje mn x =\n",
    "    match mn with\n",
    "    | Prazno -> false\n",
    "    | Sestavljeno (l, y, d) when x = y -> true\n",
    "    | Sestavljeno (l, y, d) when x < y -> vsebuje l x\n",
    "    | Sestavljeno (l, y, d) when x > y -> vsebuje d x\n",
    "    | _ -> assert false\n",
    "\n",
    "  let prazna = Prazno\n",
    "\n",
    "  let rec velikost = function\n",
    "    | Prazno -> 0\n",
    "    | Sestavljeno (l, _, d) -> 1 + velikost l + velikost d\n",
    "\n",
    "  let rec podvoji = function\n",
    "    | Prazno -> Prazno\n",
    "    | Sestavljeno (l, x, d) -> Sestavljeno (podvoji l, x, podvoji d)\n",
    "\n",
    "  let zavrti_levo = function\n",
    "    | Sestavljeno (l, x, Sestavljeno (dl, y, dd)) ->\n",
    "        Sestavljeno (Sestavljeno (l, x, dl), y, dd)\n",
    "    | _ -> failwith \"Tega drevesa ne morem zavrteti\"\n",
    "\n",
    "  let zavrti_desno = function\n",
    "    | Sestavljeno (Sestavljeno (ll, y, ld), x, d) ->\n",
    "        Sestavljeno (ll, y, Sestavljeno (ld, x, d))\n",
    "    | _ -> failwith \"Tega drevesa ne morem zavrteti\"\n",
    "\n",
    "  let rec visina drevo =\n",
    "    match drevo with\n",
    "    | Prazno -> 0\n",
    "    | Sestavljeno (l, _, d) -> 1 + max (visina l) (visina d)\n",
    "\n",
    "  let razlika = function\n",
    "    | Prazno -> 0\n",
    "    | Sestavljeno (l, _, d) -> visina l - visina d\n",
    "\n",
    "  let uravnotezi drevo =\n",
    "    match drevo with\n",
    "    | Sestavljeno (l, x, d) when razlika drevo = 2 && razlika l = 1 ->\n",
    "        zavrti_desno drevo\n",
    "    | Sestavljeno (l, x, d) when razlika drevo = 2 ->\n",
    "        Sestavljeno (zavrti_levo l, x, d) |> zavrti_desno\n",
    "    | Sestavljeno (l, x, d) when razlika drevo = -2 && razlika d = -1 ->\n",
    "        zavrti_levo drevo\n",
    "    | Sestavljeno (l, x, d) when razlika drevo = -2 ->\n",
    "        Sestavljeno (l, x, zavrti_desno d) |> zavrti_levo\n",
    "    | _ -> drevo\n",
    "\n",
    "  let rec isci x drevo =\n",
    "    match drevo with\n",
    "    | Prazno -> false\n",
    "    | Sestavljeno (l, vrednost, d) ->\n",
    "        if x < vrednost then isci x l\n",
    "        else if x > vrednost then isci x d\n",
    "        else true\n",
    "\n",
    "  let rec dodaj x drevo =\n",
    "    match drevo with\n",
    "    | Prazno -> Sestavljeno (Prazno, x, Prazno)\n",
    "    | Sestavljeno (l, vrednost, d) ->\n",
    "        if x < vrednost then Sestavljeno (dodaj x l, vrednost, d) |> uravnotezi\n",
    "        else if x > vrednost then\n",
    "          Sestavljeno (l, vrednost, dodaj x d) |> uravnotezi\n",
    "        else drevo\n",
    "end"
   ]
  },
  {
   "cell_type": "code",
   "execution_count": 26,
   "metadata": {
    "vscode": {
     "languageId": "ocaml"
    }
   },
   "outputs": [
    {
     "ename": "error",
     "evalue": "compile_error",
     "output_type": "error",
     "traceback": [
      "File \"[33]\", line 32, characters 25-26:\n32 |     match Avl.isci (key,(_,_,_)) machine.gama with\n                              ^\nError: Syntax error: wildcard \"_\" not expected.\n"
     ]
    }
   ],
   "source": [
    "module type MACHINE = sig\n",
    "  type t\n",
    "  val make : state -> state list -> t\n",
    "  val initial : t -> state\n",
    "  val add_transition : state -> char -> state -> char -> direction -> t -> t\n",
    "  val step : t -> state -> Tape.t -> (state * Tape.t) option\n",
    "end\n",
    "module Machine : MACHINE = struct\n",
    "  type t = { simboli : char list;\n",
    "             prazen : char;\n",
    "             stanja : state list;\n",
    "             zacetno : state;\n",
    "            gama : ((char * state) * (char * state * direction)) Avl.t\n",
    "           }\n",
    "   let make st states =\n",
    "     {\n",
    "       simboli = ['0';'1'];\n",
    "       prazen = ' ';\n",
    "       stanja = states;\n",
    "       zacetno = st;\n",
    "       gama = Avl.prazna\n",
    "      }\n",
    "  let initial t = t.zacetno\n",
    "  let add_transition current_st read_ch next_st written_ch dir t =\n",
    "    let new_transition = ((read_ch, current_st), (written_ch, next_st, dir)) in\n",
    "    {t with gama = Avl.dodaj new_transition t.gama}\n",
    "  \n",
    "  let step machine current_state tape =\n",
    "    let read_char = Tape.read tape in\n",
    "    let key = (read_char, current_state) in\n",
    "    match Avl.isci key machine.gama with (*nekaj je se treba popravit pri tem tipu vendar sem se raje odlocil, da oddam s tro dnevno zmaudo kot stiri dnevno :') *)\n",
    "    | false ->\n",
    "        None\n",
    "    | true ->\n",
    "        let updated_tape = tape |> Tape.write new_char |> Tape.move direction in\n",
    "        Some (new_state, updated_tape)\n",
    "    \n",
    "    \n",
    "    \n",
    "\n",
    "end"
   ]
  },
  {
   "cell_type": "markdown",
   "metadata": {
    "vscode": {
     "languageId": "ocaml"
    }
   },
   "source": [
    "Primer stroja \"Binary Increment\" na <http://turingmachine.io> lahko implementiramo kot:"
   ]
  },
  {
   "cell_type": "code",
   "execution_count": 7,
   "metadata": {
    "vscode": {
     "languageId": "ocaml"
    }
   },
   "outputs": [
    {
     "data": {
      "text/plain": [
       "val binary_increment : Machine.t = <abstr>\n"
      ]
     },
     "execution_count": 7,
     "metadata": {},
     "output_type": "execute_result"
    }
   ],
   "source": [
    "let binary_increment =\n",
    "  Machine.(\n",
    "    make \"right\" [ \"carry\"; \"done\" ]\n",
    "    |> add_transition \"right\" '1' \"right\" '1' Right\n",
    "    |> add_transition \"right\" '0' \"right\" '0' Right\n",
    "    |> add_transition \"right\" ' ' \"carry\" ' ' Left\n",
    "    |> add_transition \"carry\" '1' \"carry\" '0' Left\n",
    "    |> add_transition \"carry\" '0' \"done\" '1' Left\n",
    "    |> add_transition \"carry\" ' ' \"done\" '1' Left\n",
    "  )\n"
   ]
  },
  {
   "cell_type": "markdown",
   "metadata": {
    "vscode": {
     "languageId": "ocaml"
    }
   },
   "source": [
    "Zapišite funkciji `slow_run` in `speed_run` tipa `Machine.t -> str -> unit`, ki simulirata Turingov stroj na traku, na katerem je na začetku zapisan dani niz. Prva naj izpiše trakove in stanja pri vseh vmesnih korakih, druga pa naj izpiše le končni trak. Slednjo bomo uporabljali tudi pri meritvi učinkovitosti izvajanja."
   ]
  },
  {
   "cell_type": "code",
   "execution_count": 9,
   "metadata": {
    "vscode": {
     "languageId": "ocaml"
    }
   },
   "outputs": [
    {
     "name": "stdout",
     "output_type": "stream",
     "text": [
      "1011\n",
      "^\n",
      "right\n",
      "1011\n",
      " ^\n",
      "right\n",
      "1011\n",
      "  ^\n",
      "right\n",
      "1011\n",
      "   ^\n",
      "right\n",
      "1011\n",
      "    ^\n",
      "right\n",
      "1011\n",
      "   ^\n",
      "carry\n",
      "1010\n",
      "  ^\n",
      "carry\n",
      "1000\n",
      " ^\n",
      "carry\n",
      "1100\n",
      "^\n",
      "done\n"
     ]
    },
    {
     "data": {
      "text/plain": [
       "val primer_slow_run : unit = ()\n"
      ]
     },
     "execution_count": 9,
     "metadata": {},
     "output_type": "execute_result"
    }
   ],
   "source": [
    "let primer_slow_run =\n",
    "  slow_run binary_increment \"1011\""
   ]
  },
  {
   "cell_type": "code",
   "execution_count": 11,
   "metadata": {
    "vscode": {
     "languageId": "ocaml"
    }
   },
   "outputs": [
    {
     "name": "stdout",
     "output_type": "stream",
     "text": [
      "1100\n",
      "^\n"
     ]
    },
    {
     "data": {
      "text/plain": [
       "val primer_speed_run : unit = ()\n"
      ]
     },
     "execution_count": 11,
     "metadata": {},
     "output_type": "execute_result"
    }
   ],
   "source": [
    "let primer_speed_run =\n",
    "  speed_run binary_increment \"1011\""
   ]
  },
  {
   "cell_type": "markdown",
   "metadata": {},
   "source": [
    "## Krajši zapis"
   ]
  },
  {
   "cell_type": "markdown",
   "metadata": {},
   "source": [
    "Ko definiramo Turingov stroj, prehode običajno združujemo najprej po stanjih, nato pa še po znakih. Prav tako pri dosti prehodih samo premikamo glavo, trak in stanje pa pustimo pri miru. Zapišite funkcije:\n",
    "\n",
    "- `for_state`\n",
    "- `for_character`\n",
    "- `for_characters`\n",
    "- `move`\n",
    "- `switch_and_move`\n",
    "- `write_and_move`\n",
    "- `write_switch_and_move`\n",
    "\n",
    "s katerimi bi lahko zgornji primer na krajše zapisali kot spodaj. Implementacijo in tipe ugotovite sami."
   ]
  },
  {
   "cell_type": "code",
   "execution_count": 13,
   "metadata": {
    "vscode": {
     "languageId": "ocaml"
    }
   },
   "outputs": [
    {
     "data": {
      "text/plain": [
       "val binary_increment' : Machine.t = <abstr>\n"
      ]
     },
     "execution_count": 13,
     "metadata": {},
     "output_type": "execute_result"
    }
   ],
   "source": [
    "let binary_increment' =\n",
    "  Machine.make \"right\" [\"carry\"; \"done\"]\n",
    "  |> for_state \"right\" [\n",
    "    for_characters \"01\" @@ move Right;\n",
    "    for_character ' ' @@ switch_and_move \"carry\" Left\n",
    "  ]\n",
    "  |> for_state \"carry\" [\n",
    "    for_character '1' @@ write_and_move '0' Left;\n",
    "    for_characters \"0 \" @@ write_switch_and_move '1' \"done\" Left\n",
    "  ]  "
   ]
  },
  {
   "cell_type": "markdown",
   "metadata": {},
   "source": [
    "## Primeri Turingovih strojev"
   ]
  },
  {
   "cell_type": "markdown",
   "metadata": {
    "vscode": {
     "languageId": "ocaml"
    }
   },
   "source": [
    "Pri tej nalogi boste sestavljali stroje, ki bodo iz začetnega niza na traku na različne načine izračunali nov niz. Pri tem lahko predpostavite, da je začetni niz sestavljen iz ničel in enic, preostanek traku pa je prazen. Na koncu izvajanja naj bo glava na začetku novega niza, z izjemo tega niza pa naj bo trak prazen. Ni pa treba, da se izračunani niz začne na istem mestu na traku, kot se je začel prvotni niz."
   ]
  },
  {
   "cell_type": "markdown",
   "metadata": {
    "vscode": {
     "languageId": "ocaml"
    }
   },
   "source": [
    "### Obračanje niza\n"
   ]
  },
  {
   "cell_type": "markdown",
   "metadata": {},
   "source": [
    "Sestavite Turingov stroj, ki začetni niz obrne na glavo."
   ]
  },
  {
   "cell_type": "code",
   "execution_count": 15,
   "metadata": {
    "vscode": {
     "languageId": "ocaml"
    }
   },
   "outputs": [
    {
     "name": "stdout",
     "output_type": "stream",
     "text": [
      "1001110000          \n",
      "^\n"
     ]
    },
    {
     "data": {
      "text/plain": [
       "val primer_reverse : unit = ()\n"
      ]
     },
     "execution_count": 15,
     "metadata": {},
     "output_type": "execute_result"
    }
   ],
   "source": [
    "let primer_reverse = speed_run reverse \"0000111001\""
   ]
  },
  {
   "cell_type": "markdown",
   "metadata": {},
   "source": [
    "### Podvajanje niza\n"
   ]
  },
  {
   "cell_type": "markdown",
   "metadata": {},
   "source": [
    "Sestavite Turingov stroj, ki podvoji začetni niz."
   ]
  },
  {
   "cell_type": "code",
   "execution_count": 17,
   "metadata": {
    "vscode": {
     "languageId": "ocaml"
    }
   },
   "outputs": [
    {
     "name": "stdout",
     "output_type": "stream",
     "text": [
      "001100001111       \n",
      "^\n"
     ]
    },
    {
     "data": {
      "text/plain": [
       "val primer_duplicate : unit = ()\n"
      ]
     },
     "execution_count": 17,
     "metadata": {},
     "output_type": "execute_result"
    }
   ],
   "source": [
    "let primer_duplicate = speed_run duplicate \"010011\""
   ]
  },
  {
   "cell_type": "markdown",
   "metadata": {},
   "source": [
    "### Eniški zapis\n"
   ]
  },
  {
   "cell_type": "markdown",
   "metadata": {},
   "source": [
    "Sestavite Turingov stroj, ki na začetku na traku sprejme število $n$, zapisano v dvojiškem zapisu, na koncu pa naj bo na traku zapisanih natanko $n$ enic."
   ]
  },
  {
   "cell_type": "code",
   "execution_count": 19,
   "metadata": {
    "vscode": {
     "languageId": "ocaml"
    }
   },
   "outputs": [
    {
     "name": "stdout",
     "output_type": "stream",
     "text": [
      "1111111111\n",
      "^\n"
     ]
    },
    {
     "data": {
      "text/plain": [
       "val primer_to_unary : unit = ()\n"
      ]
     },
     "execution_count": 19,
     "metadata": {},
     "output_type": "execute_result"
    }
   ],
   "source": [
    "let primer_to_unary = speed_run to_unary \"1010\""
   ]
  },
  {
   "cell_type": "markdown",
   "metadata": {},
   "source": [
    "### Dvojiški zapis\n"
   ]
  },
  {
   "cell_type": "markdown",
   "metadata": {},
   "source": [
    "Sestavite ravno obratni Turingov stroj, torej tak, ki na začetku na traku sprejme število $n$ enic, na koncu pa naj bo na traku zapisano število $n$ v dvojiškem zapisu."
   ]
  },
  {
   "cell_type": "code",
   "execution_count": 21,
   "metadata": {
    "vscode": {
     "languageId": "ocaml"
    }
   },
   "outputs": [
    {
     "data": {
      "text/plain": [
       "val primer_to_binary : unit = ()\n"
      ]
     },
     "execution_count": 21,
     "metadata": {},
     "output_type": "execute_result"
    },
    {
     "name": "stdout",
     "output_type": "stream",
     "text": [
      "101010                                           \n",
      "^\n"
     ]
    }
   ],
   "source": [
    "let primer_to_binary = speed_run to_binary (String.make 42 '1')"
   ]
  }
 ],
 "metadata": {
  "kernelspec": {
   "display_name": "OCaml 4.14",
   "language": "OCaml",
   "name": "ocaml-jupyter"
  },
  "language_info": {
   "codemirror_mode": "text/x-ocaml",
   "file_extension": ".ml",
   "mimetype": "text/x-ocaml",
   "name": "OCaml",
   "nbconverter_exporter": null,
   "pygments_lexer": "OCaml",
   "version": "4.14.2"
  }
 },
 "nbformat": 4,
 "nbformat_minor": 2
}
